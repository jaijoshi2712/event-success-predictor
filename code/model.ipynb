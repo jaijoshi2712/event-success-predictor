{
 "cells": [
  {
   "cell_type": "markdown",
   "id": "4f00c1cc-5444-450c-8071-34c57b81d692",
   "metadata": {},
   "source": [
    "#### This file contains the sentiment analysis model that will classify events as ```success``` or ```failure```"
   ]
  },
  {
   "cell_type": "markdown",
   "id": "bf0307f0-493f-429d-98fa-91ddc575d355",
   "metadata": {},
   "source": [
    "We will train our sentiment analysis model in three ways and compare their performance"
   ]
  },
  {
   "cell_type": "markdown",
   "id": "e055a1ab-2eed-40aa-8d57-bd4ad6554864",
   "metadata": {},
   "source": [
    "## Sklearn Implementation"
   ]
  },
  {
   "cell_type": "code",
   "execution_count": 8,
   "id": "f0e54a05-8fcf-4446-bee9-99b8825775b5",
   "metadata": {
    "tags": []
   },
   "outputs": [],
   "source": [
    "import pandas as pd\n",
    "from sklearn.model_selection import train_test_split\n",
    "from sklearn.linear_model import LogisticRegression\n",
    "from sklearn.metrics import mean_squared_error\n",
    "from sklearn.feature_extraction.text import TfidfVectorizer"
   ]
  },
  {
   "cell_type": "code",
   "execution_count": 16,
   "id": "94ee645d-ee31-4731-afbc-b5187c8eabcc",
   "metadata": {
    "tags": []
   },
   "outputs": [],
   "source": [
    "sentiment140_sklearn = pd.read_parquet('../data-processed/sentiment140_model_data.parquet')"
   ]
  },
  {
   "cell_type": "code",
   "execution_count": 17,
   "id": "6a8e737d-ae3e-4815-8da8-b0f437dc15b8",
   "metadata": {
    "tags": []
   },
   "outputs": [
    {
     "data": {
      "text/html": [
       "<div>\n",
       "<style scoped>\n",
       "    .dataframe tbody tr th:only-of-type {\n",
       "        vertical-align: middle;\n",
       "    }\n",
       "\n",
       "    .dataframe tbody tr th {\n",
       "        vertical-align: top;\n",
       "    }\n",
       "\n",
       "    .dataframe thead th {\n",
       "        text-align: right;\n",
       "    }\n",
       "</style>\n",
       "<table border=\"1\" class=\"dataframe\">\n",
       "  <thead>\n",
       "    <tr style=\"text-align: right;\">\n",
       "      <th></th>\n",
       "      <th>text</th>\n",
       "      <th>label</th>\n",
       "    </tr>\n",
       "  </thead>\n",
       "  <tbody>\n",
       "    <tr>\n",
       "      <th>0</th>\n",
       "      <td>[switchfoot, httptwitpiccom2y1zl, awww, that, ...</td>\n",
       "      <td>0</td>\n",
       "    </tr>\n",
       "    <tr>\n",
       "      <th>1</th>\n",
       "      <td>[upset, cant, updat, facebook, text, it, might...</td>\n",
       "      <td>0</td>\n",
       "    </tr>\n",
       "    <tr>\n",
       "      <th>2</th>\n",
       "      <td>[kenichan, dive, mani, time, ball, manag, save...</td>\n",
       "      <td>0</td>\n",
       "    </tr>\n",
       "    <tr>\n",
       "      <th>3</th>\n",
       "      <td>[whole, bodi, feel, itchi, like, fire]</td>\n",
       "      <td>0</td>\n",
       "    </tr>\n",
       "    <tr>\n",
       "      <th>4</th>\n",
       "      <td>[nationwideclass, no, behav, all, im, mad, her...</td>\n",
       "      <td>0</td>\n",
       "    </tr>\n",
       "  </tbody>\n",
       "</table>\n",
       "</div>"
      ],
      "text/plain": [
       "                                                text label\n",
       "0  [switchfoot, httptwitpiccom2y1zl, awww, that, ...     0\n",
       "1  [upset, cant, updat, facebook, text, it, might...     0\n",
       "2  [kenichan, dive, mani, time, ball, manag, save...     0\n",
       "3             [whole, bodi, feel, itchi, like, fire]     0\n",
       "4  [nationwideclass, no, behav, all, im, mad, her...     0"
      ]
     },
     "execution_count": 17,
     "metadata": {},
     "output_type": "execute_result"
    }
   ],
   "source": [
    "sentiment140_sklearn.head()"
   ]
  },
  {
   "cell_type": "code",
   "execution_count": 36,
   "metadata": {},
   "outputs": [],
   "source": [
    "sentiment140_sklearn = sentiment140_sklearn.dropna(axis='rows')"
   ]
  },
  {
   "cell_type": "markdown",
   "metadata": {},
   "source": [
    "Prepare embeddings from text to train the model"
   ]
  },
  {
   "cell_type": "code",
   "execution_count": 37,
   "metadata": {},
   "outputs": [
    {
     "data": {
      "text/plain": [
       "0          [switchfoot, httptwitpiccom2y1zl, awww, that, ...\n",
       "1          [upset, cant, updat, facebook, text, it, might...\n",
       "2          [kenichan, dive, mani, time, ball, manag, save...\n",
       "3                     [whole, bodi, feel, itchi, like, fire]\n",
       "4          [nationwideclass, no, behav, all, im, mad, her...\n",
       "                                 ...                        \n",
       "1599995                 [woke, up, school, best, feel, ever]\n",
       "1599996    [thewdbcom, cool, hear, old, walt, interview, ...\n",
       "1599997                   [readi, mojo, makeov, ask, detail]\n",
       "1599998    [happi, 38th, birthday, boo, alll, time, tupac...\n",
       "1599999    [happi, charitytuesday, thenspcc, sparkschar, ...\n",
       "Name: text, Length: 1599999, dtype: object"
      ]
     },
     "execution_count": 37,
     "metadata": {},
     "output_type": "execute_result"
    }
   ],
   "source": [
    "vectorizer = TfidfVectorizer()\n",
    "X = sentiment140_sklearn['text']\n",
    "y = sentiment140_sklearn['label']\n",
    "X"
   ]
  },
  {
   "cell_type": "code",
   "execution_count": 38,
   "metadata": {},
   "outputs": [],
   "source": [
    "X = vectorizer.fit_transform(X)"
   ]
  },
  {
   "cell_type": "code",
   "execution_count": 39,
   "metadata": {},
   "outputs": [
    {
     "data": {
      "text/plain": [
       "<1599999x783601 sparse matrix of type '<class 'numpy.float64'>'\n",
       "\twith 12204586 stored elements in Compressed Sparse Row format>"
      ]
     },
     "execution_count": 39,
     "metadata": {},
     "output_type": "execute_result"
    }
   ],
   "source": [
    "X"
   ]
  },
  {
   "cell_type": "code",
   "execution_count": 40,
   "id": "a91c69d6-8a60-4490-bda7-d0506a5c4606",
   "metadata": {
    "tags": []
   },
   "outputs": [],
   "source": [
    "random_state = 42"
   ]
  },
  {
   "cell_type": "code",
   "execution_count": 41,
   "id": "68efb95b-4ea0-4f45-9c20-e5d579e85380",
   "metadata": {
    "tags": []
   },
   "outputs": [],
   "source": [
    "Xtr, Xts, ytr, yts = train_test_split(\n",
    "    X,\n",
    "    y,\n",
    "    test_size=0.3, \n",
    "    random_state=random_state\n",
    ")"
   ]
  },
  {
   "cell_type": "code",
   "execution_count": 51,
   "id": "9a75aaad-1db4-4777-bd39-aa2ae907ddc7",
   "metadata": {
    "tags": []
   },
   "outputs": [
    {
     "name": "stderr",
     "output_type": "stream",
     "text": [
      "/Users/priyangshupal/anaconda3/lib/python3.11/site-packages/sklearn/linear_model/_logistic.py:458: ConvergenceWarning: lbfgs failed to converge (status=1):\n",
      "STOP: TOTAL NO. of ITERATIONS REACHED LIMIT.\n",
      "\n",
      "Increase the number of iterations (max_iter) or scale the data as shown in:\n",
      "    https://scikit-learn.org/stable/modules/preprocessing.html\n",
      "Please also refer to the documentation for alternative solver options:\n",
      "    https://scikit-learn.org/stable/modules/linear_model.html#logistic-regression\n",
      "  n_iter_i = _check_optimize_result(\n"
     ]
    }
   ],
   "source": [
    "model_sklearn = LogisticRegression(random_state=random_state, max_iter=100, penalty='l2').fit(Xtr.astype(int), ytr)"
   ]
  },
  {
   "cell_type": "code",
   "execution_count": 53,
   "metadata": {},
   "outputs": [
    {
     "data": {
      "text/plain": [
       "0.49532291666666667"
      ]
     },
     "execution_count": 53,
     "metadata": {},
     "output_type": "execute_result"
    }
   ],
   "source": [
    "mean_squared_error(yts, model_sklearn.predict(Xts.astype(int)))"
   ]
  }
 ],
 "metadata": {
  "kernelspec": {
   "display_name": "base",
   "language": "python",
   "name": "python3"
  },
  "language_info": {
   "codemirror_mode": {
    "name": "ipython",
    "version": 3
   },
   "file_extension": ".py",
   "mimetype": "text/x-python",
   "name": "python",
   "nbconvert_exporter": "python",
   "pygments_lexer": "ipython3",
   "version": "3.11.3"
  }
 },
 "nbformat": 4,
 "nbformat_minor": 5
}
