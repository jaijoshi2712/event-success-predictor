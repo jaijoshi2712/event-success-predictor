{
 "cells": [
  {
   "cell_type": "markdown",
   "metadata": {},
   "source": [
    "#### This file contains the sentiment analysis model that will classify events as ```success``` or ```failure```"
   ]
  },
  {
   "cell_type": "code",
   "execution_count": 102,
   "id": "3af8f052-6459-414e-8cce-c0162bcb31ef",
   "metadata": {
    "tags": []
   },
   "outputs": [],
   "source": [
    "import time"
   ]
  },
  {
   "cell_type": "markdown",
   "id": "eebe895a-3528-4cc6-835e-757e81e96067",
   "metadata": {},
   "source": [
    "## Sklearn Implementation"
   ]
  },
  {
   "cell_type": "code",
   "execution_count": 103,
   "id": "fba9da0f-7aad-4aa7-a6c4-8136954b58eb",
   "metadata": {
    "tags": []
   },
   "outputs": [],
   "source": [
    "import pandas as pd\n",
    "from sklearn.model_selection import train_test_split\n",
    "from sklearn.linear_model import LogisticRegression\n",
    "from sklearn.metrics import mean_squared_error\n",
    "from sklearn.feature_extraction.text import CountVectorizer"
   ]
  },
  {
   "cell_type": "code",
   "execution_count": 104,
   "id": "077379ae-6938-4117-a441-c0d51fd702c6",
   "metadata": {
    "tags": []
   },
   "outputs": [],
   "source": [
    "sentiment140_sklearn = pd.read_parquet('../data-processed/sentiment140_model_data.parquet')"
   ]
  },
  {
   "cell_type": "code",
   "execution_count": 105,
   "id": "a9423099-7021-45df-8ad2-2aafdb1efec1",
   "metadata": {
    "tags": []
   },
   "outputs": [
    {
     "data": {
      "text/html": [
       "<div>\n",
       "<style scoped>\n",
       "    .dataframe tbody tr th:only-of-type {\n",
       "        vertical-align: middle;\n",
       "    }\n",
       "\n",
       "    .dataframe tbody tr th {\n",
       "        vertical-align: top;\n",
       "    }\n",
       "\n",
       "    .dataframe thead th {\n",
       "        text-align: right;\n",
       "    }\n",
       "</style>\n",
       "<table border=\"1\" class=\"dataframe\">\n",
       "  <thead>\n",
       "    <tr style=\"text-align: right;\">\n",
       "      <th></th>\n",
       "      <th>text</th>\n",
       "      <th>label</th>\n",
       "    </tr>\n",
       "  </thead>\n",
       "  <tbody>\n",
       "    <tr>\n",
       "      <th>0</th>\n",
       "      <td>love health4uandpet u guy r best</td>\n",
       "      <td>1</td>\n",
       "    </tr>\n",
       "    <tr>\n",
       "      <th>1</th>\n",
       "      <td>im meet one besti tonight cant wait girl talk</td>\n",
       "      <td>1</td>\n",
       "    </tr>\n",
       "    <tr>\n",
       "      <th>2</th>\n",
       "      <td>darealsunisakim thank twitter add sunisa got m...</td>\n",
       "      <td>1</td>\n",
       "    </tr>\n",
       "    <tr>\n",
       "      <th>3</th>\n",
       "      <td>sick realli cheap hurt much eat real food plu ...</td>\n",
       "      <td>1</td>\n",
       "    </tr>\n",
       "    <tr>\n",
       "      <th>4</th>\n",
       "      <td>lovesbrooklyn2 effect everyon</td>\n",
       "      <td>1</td>\n",
       "    </tr>\n",
       "  </tbody>\n",
       "</table>\n",
       "</div>"
      ],
      "text/plain": [
       "                                                text label\n",
       "0                   love health4uandpet u guy r best     1\n",
       "1      im meet one besti tonight cant wait girl talk     1\n",
       "2  darealsunisakim thank twitter add sunisa got m...     1\n",
       "3  sick realli cheap hurt much eat real food plu ...     1\n",
       "4                      lovesbrooklyn2 effect everyon     1"
      ]
     },
     "execution_count": 105,
     "metadata": {},
     "output_type": "execute_result"
    }
   ],
   "source": [
    "sentiment140_sklearn.head()"
   ]
  },
  {
   "cell_type": "markdown",
   "id": "49795dbf-e836-48d8-a2f1-54db0a3dbc06",
   "metadata": {},
   "source": [
    "#### Preparing word embeddings"
   ]
  },
  {
   "cell_type": "code",
   "execution_count": 106,
   "id": "f7570f3c-0261-4820-aae2-5d326dac5b09",
   "metadata": {
    "tags": []
   },
   "outputs": [],
   "source": [
    "vectorizer = CountVectorizer()\n",
    "X = vectorizer.fit_transform(sentiment140_sklearn['text'])\n",
    "y = sentiment140_sklearn['label']"
   ]
  },
  {
   "cell_type": "code",
   "execution_count": 107,
   "id": "082728b4-0ff0-46f3-85e4-566065c0ccbf",
   "metadata": {
    "tags": []
   },
   "outputs": [],
   "source": [
    "Xtr, Xts, ytr, yts = train_test_split(\n",
    "    X,\n",
    "    y,\n",
    "    test_size=0.3, \n",
    "    random_state=42\n",
    ")"
   ]
  },
  {
   "cell_type": "code",
   "execution_count": 108,
   "id": "e72e9846-69d7-4a4e-af4a-000b1c443506",
   "metadata": {
    "tags": []
   },
   "outputs": [],
   "source": [
    "start_time_sklearn = time.time()\n",
    "model_sklearn = LogisticRegression(random_state=42, max_iter=100).fit(Xtr.astype(int), ytr)"
   ]
  },
  {
   "cell_type": "code",
   "execution_count": 109,
   "metadata": {},
   "outputs": [],
   "source": [
    "yhat = model_sklearn.predict(Xts.astype(int))"
   ]
  },
  {
   "cell_type": "code",
   "execution_count": 110,
   "metadata": {},
   "outputs": [],
   "source": [
    "time_sklearn = time.time() - start_time_sklearn"
   ]
  },
  {
   "cell_type": "code",
   "execution_count": 111,
   "id": "8c651d8b-246d-4b95-8270-abf85002821f",
   "metadata": {
    "tags": []
   },
   "outputs": [],
   "source": [
    "mse_sklearn = mean_squared_error(yts, yhat)"
   ]
  },
  {
   "cell_type": "markdown",
   "id": "4bb25faa-ab76-4e9e-9ee4-1f3b1f746858",
   "metadata": {},
   "source": [
    "## Pyspark Implementation"
   ]
  },
  {
   "cell_type": "code",
   "execution_count": 112,
   "id": "8f3f0a27-c292-4aab-b873-7214d350649b",
   "metadata": {
    "tags": []
   },
   "outputs": [],
   "source": [
    "import pyspark\n",
    "import pyspark.sql.functions as F\n",
    "import pyspark.sql.types as T\n",
    "import os\n",
    "from pyspark.ml.classification import LogisticRegression\n",
    "from pyspark.ml.evaluation import RegressionEvaluator\n",
    "from pyspark.ml.feature import CountVectorizer"
   ]
  },
  {
   "cell_type": "code",
   "execution_count": 113,
   "id": "2cd4aa52-6969-4cae-983b-16dd46ed94dd",
   "metadata": {
    "tags": []
   },
   "outputs": [
    {
     "name": "stdout",
     "output_type": "stream",
     "text": [
      "Spark context already exists, continuing with <SparkContext master=local[*] appName=pyspark-shell>\n"
     ]
    }
   ],
   "source": [
    "conf = pyspark.SparkConf()\n",
    "# conf.set('spark.ui.proxyBase', '/user/' + os.environ['JUPYTERHUB_USER'] + '/proxy/4041')\n",
    "conf.set('spark.driver.memory','8g')\n",
    "conf.set('spark.ui.showConsoleProgress', False)\n",
    "try:\n",
    "    sc = pyspark.SparkContext(conf=conf)\n",
    "    spark = pyspark.SQLContext.getOrCreate(sc)\n",
    "except:\n",
    "    print('Spark context already exists, continuing with', sc)"
   ]
  },
  {
   "cell_type": "code",
   "execution_count": 114,
   "id": "5064d98f-e727-4a5a-94ad-4e3589a47d8a",
   "metadata": {
    "tags": []
   },
   "outputs": [],
   "source": [
    "sentiment140_pyspark = spark.read.parquet('../data-processed/sentiment140_model_data.parquet')"
   ]
  },
  {
   "cell_type": "markdown",
   "id": "19b686e2-a7b4-42b2-a313-03ca002cd4f2",
   "metadata": {},
   "source": [
    "#### Preparing word embeddings"
   ]
  },
  {
   "cell_type": "code",
   "execution_count": 115,
   "id": "03341e4b-9b3f-47a8-ab37-4564925a9527",
   "metadata": {
    "tags": []
   },
   "outputs": [],
   "source": [
    "sentiment140_pyspark = sentiment140_pyspark.withColumn('text', F.split(F.col('text'), ' '))"
   ]
  },
  {
   "cell_type": "code",
   "execution_count": 116,
   "id": "4c56de1d-25b3-4012-8067-650fc637b198",
   "metadata": {
    "tags": []
   },
   "outputs": [],
   "source": [
    "cv = CountVectorizer(inputCol='text', outputCol='embeddings')"
   ]
  },
  {
   "cell_type": "code",
   "execution_count": 117,
   "id": "f0f0104e-5019-4733-a1ce-369f5c87c192",
   "metadata": {
    "tags": []
   },
   "outputs": [],
   "source": [
    "model = cv.fit(sentiment140_pyspark)"
   ]
  },
  {
   "cell_type": "code",
   "execution_count": 118,
   "id": "d48f0a5e-b48e-4592-bb2a-bb28a2cfda9f",
   "metadata": {
    "tags": []
   },
   "outputs": [],
   "source": [
    "sentiment140_pyspark = model.transform(sentiment140_pyspark)"
   ]
  },
  {
   "cell_type": "code",
   "execution_count": 119,
   "id": "da86dc0f-bc00-4309-beda-41a01e93775a",
   "metadata": {
    "tags": []
   },
   "outputs": [],
   "source": [
    "sentiment140_pyspark = sentiment140_pyspark.withColumn('label', F.col('label').cast(T.IntegerType()))"
   ]
  },
  {
   "cell_type": "code",
   "execution_count": 120,
   "id": "09eba89d-29be-44dd-85fc-0a730c25cd8f",
   "metadata": {
    "tags": []
   },
   "outputs": [
    {
     "name": "stdout",
     "output_type": "stream",
     "text": [
      "+--------------------+-----+--------------------+\n",
      "|                text|label|          embeddings|\n",
      "+--------------------+-----+--------------------+\n",
      "|[love, health4uan...|    1|(3216,[5,34,125,1...|\n",
      "|[im, meet, one, b...|    1|(3216,[0,9,20,46,...|\n",
      "|[darealsunisakim,...|    1|(3216,[12,15,39,5...|\n",
      "|[sick, realli, ch...|    1|(3216,[24,28,37,6...|\n",
      "|[lovesbrooklyn2, ...|    1|(3216,[133,1149,1...|\n",
      "|[productoffear, t...|    1|(3216,[12,24,37,5...|\n",
      "|[rkeithhil, than,...|    1|(3216,[55,102,265...|\n",
      "|[keepinupwkri, je...|    1|(3216,[5,6,7,31,5...|\n",
      "|[tommcfli, ah, co...|    1|(3216,[39,123,230...|\n",
      "|[e4voip, respond,...|    1|(3216,[111,360,52...|\n",
      "+--------------------+-----+--------------------+\n",
      "only showing top 10 rows\n",
      "\n"
     ]
    }
   ],
   "source": [
    "sentiment140_pyspark.show(10)"
   ]
  },
  {
   "cell_type": "code",
   "execution_count": 121,
   "id": "da2331ca-6a81-41bc-845f-f1e85243fbd7",
   "metadata": {
    "tags": []
   },
   "outputs": [],
   "source": [
    "train, test = sentiment140_pyspark.randomSplit([0.7, 0.3], seed=42)"
   ]
  },
  {
   "cell_type": "code",
   "execution_count": 122,
   "id": "2deb1059-90d9-4b5f-8b3f-779af5d0e5a6",
   "metadata": {
    "tags": []
   },
   "outputs": [],
   "source": [
    "model_pyspark = LogisticRegression(maxIter=100, featuresCol='embeddings', labelCol='label')"
   ]
  },
  {
   "cell_type": "code",
   "execution_count": 123,
   "id": "29ef2205-685d-4736-b8ed-650187ed2c37",
   "metadata": {
    "tags": []
   },
   "outputs": [],
   "source": [
    "start_time_pyspark = time.time()\n",
    "model_fitted_pyspark = model_pyspark.fit(train)"
   ]
  },
  {
   "cell_type": "code",
   "execution_count": 124,
   "id": "a94aaa46-7dc9-4c4a-852b-5c1e8649ec37",
   "metadata": {
    "tags": []
   },
   "outputs": [],
   "source": [
    "model_predicted_pyspark = model_fitted_pyspark.transform(test)"
   ]
  },
  {
   "cell_type": "code",
   "execution_count": 125,
   "metadata": {},
   "outputs": [],
   "source": [
    "time_pyspark = time.time() - start_time_pyspark"
   ]
  },
  {
   "cell_type": "code",
   "execution_count": 126,
   "id": "14fe4989-02f4-4a85-9a62-a6e306662030",
   "metadata": {
    "tags": []
   },
   "outputs": [
    {
     "name": "stdout",
     "output_type": "stream",
     "text": [
      "+--------------------+-----+----------+\n",
      "|                text|label|prediction|\n",
      "+--------------------+-----+----------+\n",
      "|[21, day, till, c...|    1|         0|\n",
      "|[a5hleyf, im, spe...|    0|         0|\n",
      "|[aaronrva, bathro...|    0|         0|\n",
      "|[across, univers,...|    1|         0|\n",
      "|[adriman, roflmao...|    1|         0|\n",
      "|           [aghsnow]|    0|         0|\n",
      "|[ahh, tedium, fix...|    1|         0|\n",
      "|[albinla, think, ...|    1|         1|\n",
      "|[alicayaba, cuuut...|    0|         1|\n",
      "|[allanatrogu, tha...|    1|         1|\n",
      "+--------------------+-----+----------+\n",
      "only showing top 10 rows\n",
      "\n"
     ]
    }
   ],
   "source": [
    "model_predicted_pyspark.withColumn('prediction', F.col('prediction').cast(T.IntegerType()))\\\n",
    ".select(['text', 'label', 'prediction'])\\\n",
    ".show(10)"
   ]
  },
  {
   "cell_type": "code",
   "execution_count": 127,
   "id": "1ead663c-4d0f-469a-a23b-06f08f8441bf",
   "metadata": {
    "tags": []
   },
   "outputs": [],
   "source": [
    "evaluator = RegressionEvaluator(predictionCol='prediction', labelCol='label', metricName='mse')\n",
    "mse_pyspark = evaluator.evaluate(model_predicted_pyspark)"
   ]
  },
  {
   "cell_type": "markdown",
   "metadata": {},
   "source": [
    "#### Comparing the performance of models"
   ]
  },
  {
   "cell_type": "code",
   "execution_count": 128,
   "metadata": {},
   "outputs": [],
   "source": [
    "from tabulate import tabulate"
   ]
  },
  {
   "cell_type": "code",
   "execution_count": 129,
   "metadata": {},
   "outputs": [
    {
     "name": "stdout",
     "output_type": "stream",
     "text": [
      "Model type      Training and inference time    Mean Squared Error\n",
      "------------  -----------------------------  --------------------\n",
      "Sklearn                           0.0217271              0.373333\n",
      "PySpark                           0.881626               0.421875\n"
     ]
    }
   ],
   "source": [
    "print(\n",
    "  tabulate(\n",
    "    [['Sklearn', time_sklearn, mse_sklearn],\n",
    "    ['PySpark', time_pyspark, mse_pyspark]],\n",
    "    headers=['Model type', 'Training and inference time', 'Mean Squared Error']\n",
    "  )\n",
    ")"
   ]
  }
 ],
 "metadata": {
  "kernelspec": {
   "display_name": "base",
   "language": "python",
   "name": "python3"
  },
  "language_info": {
   "codemirror_mode": {
    "name": "ipython",
    "version": 3
   },
   "file_extension": ".py",
   "mimetype": "text/x-python",
   "name": "python",
   "nbconvert_exporter": "python",
   "pygments_lexer": "ipython3",
   "version": "3.11.3"
  }
 },
 "nbformat": 4,
 "nbformat_minor": 5
}
