{
 "cells": [
  {
   "cell_type": "code",
   "execution_count": 4,
   "id": "79540484-a22a-4381-9928-a7bde021b86c",
   "metadata": {
    "tags": []
   },
   "outputs": [
    {
     "name": "stdout",
     "output_type": "stream",
     "text": [
      "{'_id': ObjectId('6574ad8cc6016dc91fb5a399'), 'Unnamed: 0': 0, 'clean_text': 'when modi promised “minimum government maximum governance” expected him begin the difficult job reforming the state why does take years get justice state should and not business and should exit psus and temples', 'category': -1.0}\n",
      "{'_id': ObjectId('6574ad8cc6016dc91fb5a39a'), 'Unnamed: 0': 2, 'clean_text': 'what did just say vote for modi  welcome bjp told you rahul the main campaigner for modi think modi should just relax', 'category': 1.0}\n",
      "{'_id': ObjectId('6574ad8cc6016dc91fb5a39b'), 'Unnamed: 0': 3, 'clean_text': 'asking his supporters prefix chowkidar their names modi did great service now there confusion what read what not now crustal clear what will crass filthy nonsensical see how most abuses are coming from chowkidars', 'category': 1.0}\n",
      "{'_id': ObjectId('6574ad8cc6016dc91fb5a39c'), 'Unnamed: 0': 4, 'clean_text': 'answer who among these the most powerful world leader today trump putin modi may ', 'category': 1.0}\n",
      "{'_id': ObjectId('6574ad8cc6016dc91fb5a39d'), 'Unnamed: 0': 8, 'clean_text': 'with upcoming election india saga going important pair look current modi leads govt elected with deal brexit combination this weekly looks juicy bears imho ', 'category': 1.0}\n"
     ]
    }
   ],
   "source": [
    "from pymongo import MongoClient\n",
    "\n",
    "# MongoDB connection details\n",
    "client = MongoClient('mongo-csgy-6513-fall.db',\n",
    "                     username='jkj9358',\n",
    "                     password=\"jkj9358\",\n",
    "                     authSource=\"jkj9358_db\")\n",
    "db = client.jkj9358_db\n",
    "\n",
    "# Specify the collection name\n",
    "collection_name = \"twitter_data\"  \n",
    "collection = db[collection_name]\n",
    "\n",
    "# Fetch the first few documents\n",
    "documents = collection.find().limit(5) \n",
    "\n",
    "# Print the documents\n",
    "for doc in documents:\n",
    "    print(doc)\n"
   ]
  },
  {
   "cell_type": "code",
   "execution_count": 9,
   "id": "32cc44ce-da09-4340-8ae2-4d08c161ba0e",
   "metadata": {
    "tags": []
   },
   "outputs": [
    {
     "name": "stdout",
     "output_type": "stream",
     "text": [
      "Data from Twitter_Data.csv inserted into collection 'twitter_data_collection'.\n",
      "Data from imdb50k.csv inserted into collection 'imdb_data_collection'.\n"
     ]
    }
   ],
   "source": [
    "from pymongo import MongoClient\n",
    "import pandas as pd\n",
    "\n",
    "# MongoDB connection details\n",
    "client = MongoClient('mongo-csgy-6513-fall.db',\n",
    "                     username='jkj9358',\n",
    "                     password=\"jkj9358\",\n",
    "                     authSource=\"jkj9358_db\")\n",
    "db = client.jkj9358_db\n",
    "\n",
    "# Collection names for each file\n",
    "collection_names = {\n",
    "    'Twitter_Data.csv': 'twitter_data_collection',\n",
    "    'imdb50k.csv': 'imdb_data_collection'\n",
    "   \n",
    "    \n",
    "}\n",
    "\n",
    "\n",
    "for file_path, collection_name in collection_names.items():\n",
    "    # Read the CSV file\n",
    "    data = pd.read_csv(file_path)\n",
    "\n",
    "    # Convert DataFrame to dictionary\n",
    "    data_dict = data.to_dict(\"records\")\n",
    "\n",
    "    # Get the collection\n",
    "    collection = db[collection_name]\n",
    "\n",
    "    # Insert data into MongoDB\n",
    "    collection.insert_many(data_dict)\n",
    "\n",
    "    print(f\"Data from {file_path} inserted into collection '{collection_name}'.\")\n"
   ]
  },
  {
   "cell_type": "code",
   "execution_count": 10,
   "id": "57f74e8e-dc9b-4e12-b056-321f4b7fff2f",
   "metadata": {
    "tags": []
   },
   "outputs": [
    {
     "name": "stdout",
     "output_type": "stream",
     "text": [
      "Documents from twitter_data_collection:\n",
      "{'_id': ObjectId('6574b47ac6016dc91fba926d'), 'Unnamed: 0': 0, 'clean_text': 'when modi promised “minimum government maximum governance” expected him begin the difficult job reforming the state why does take years get justice state should and not business and should exit psus and temples', 'category': -1.0}\n",
      "{'_id': ObjectId('6574b47ac6016dc91fba926e'), 'Unnamed: 0': 2, 'clean_text': 'what did just say vote for modi  welcome bjp told you rahul the main campaigner for modi think modi should just relax', 'category': 1.0}\n",
      "{'_id': ObjectId('6574b47ac6016dc91fba926f'), 'Unnamed: 0': 3, 'clean_text': 'asking his supporters prefix chowkidar their names modi did great service now there confusion what read what not now crustal clear what will crass filthy nonsensical see how most abuses are coming from chowkidars', 'category': 1.0}\n",
      "{'_id': ObjectId('6574b47ac6016dc91fba9270'), 'Unnamed: 0': 4, 'clean_text': 'answer who among these the most powerful world leader today trump putin modi may ', 'category': 1.0}\n",
      "{'_id': ObjectId('6574b47ac6016dc91fba9271'), 'Unnamed: 0': 8, 'clean_text': 'with upcoming election india saga going important pair look current modi leads govt elected with deal brexit combination this weekly looks juicy bears imho ', 'category': 1.0}\n",
      "\n",
      "\n",
      "Documents from imdb_data_collection:\n",
      "{'_id': ObjectId('6574b47cc6016dc91fbc375d'), 'review': \"One of the other reviewers has mentioned that after watching just 1 Oz episode you'll be hooked. They are right, as this is exactly what happened with me.<br /><br />The first thing that struck me about Oz was its brutality and unflinching scenes of violence, which set in right from the word GO. Trust me, this is not a show for the faint hearted or timid. This show pulls no punches with regards to drugs, sex or violence. Its is hardcore, in the classic use of the word.<br /><br />It is called OZ as that is the nickname given to the Oswald Maximum Security State Penitentary. It focuses mainly on Emerald City, an experimental section of the prison where all the cells have glass fronts and face inwards, so privacy is not high on the agenda. Em City is home to many..Aryans, Muslims, gangstas, Latinos, Christians, Italians, Irish and more....so scuffles, death stares, dodgy dealings and shady agreements are never far away.<br /><br />I would say the main appeal of the show is due to the fact that it goes where other shows wouldn't dare. Forget pretty pictures painted for mainstream audiences, forget charm, forget romance...OZ doesn't mess around. The first episode I ever saw struck me as so nasty it was surreal, I couldn't say I was ready for it, but as I watched more, I developed a taste for Oz, and got accustomed to the high levels of graphic violence. Not just violence, but injustice (crooked guards who'll be sold out for a nickel, inmates who'll kill on order and get away with it, well mannered, middle class inmates being turned into prison bitches due to their lack of street skills or prison experience) Watching Oz, you may become comfortable with what is uncomfortable viewing....thats if you can get in touch with your darker side.\", 'sentiment': 'positive'}\n",
      "{'_id': ObjectId('6574b47cc6016dc91fbc375e'), 'review': 'A wonderful little production. <br /><br />The filming technique is very unassuming- very old-time-BBC fashion and gives a comforting, and sometimes discomforting, sense of realism to the entire piece. <br /><br />The actors are extremely well chosen- Michael Sheen not only \"has got all the polari\" but he has all the voices down pat too! You can truly see the seamless editing guided by the references to Williams\\' diary entries, not only is it well worth the watching but it is a terrificly written and performed piece. A masterful production about one of the great master\\'s of comedy and his life. <br /><br />The realism really comes home with the little things: the fantasy of the guard which, rather than use the traditional \\'dream\\' techniques remains solid then disappears. It plays on our knowledge and our senses, particularly with the scenes concerning Orton and Halliwell and the sets (particularly of their flat with Halliwell\\'s murals decorating every surface) are terribly well done.', 'sentiment': 'positive'}\n",
      "{'_id': ObjectId('6574b47cc6016dc91fbc375f'), 'review': 'I thought this was a wonderful way to spend time on a too hot summer weekend, sitting in the air conditioned theater and watching a light-hearted comedy. The plot is simplistic, but the dialogue is witty and the characters are likable (even the well bread suspected serial killer). While some may be disappointed when they realize this is not Match Point 2: Risk Addiction, I thought it was proof that Woody Allen is still fully in control of the style many of us have grown to love.<br /><br />This was the most I\\'d laughed at one of Woody\\'s comedies in years (dare I say a decade?). While I\\'ve never been impressed with Scarlet Johanson, in this she managed to tone down her \"sexy\" image and jumped right into a average, but spirited young woman.<br /><br />This may not be the crown jewel of his career, but it was wittier than \"Devil Wears Prada\" and more interesting than \"Superman\" a great comedy to go see with friends.', 'sentiment': 'positive'}\n",
      "{'_id': ObjectId('6574b47cc6016dc91fbc3760'), 'review': \"Basically there's a family where a little boy (Jake) thinks there's a zombie in his closet & his parents are fighting all the time.<br /><br />This movie is slower than a soap opera... and suddenly, Jake decides to become Rambo and kill the zombie.<br /><br />OK, first of all when you're going to make a film you must Decide if its a thriller or a drama! As a drama the movie is watchable. Parents are divorcing & arguing like in real life. And then we have Jake with his closet which totally ruins all the film! I expected to see a BOOGEYMAN similar movie, and instead i watched a drama with some meaningless thriller spots.<br /><br />3 out of 10 just for the well playing parents & descent dialogs. As for the shots with Jake: just ignore them.\", 'sentiment': 'negative'}\n",
      "{'_id': ObjectId('6574b47cc6016dc91fbc3761'), 'review': 'Petter Mattei\\'s \"Love in the Time of Money\" is a visually stunning film to watch. Mr. Mattei offers us a vivid portrait about human relations. This is a movie that seems to be telling us what money, power and success do to people in the different situations we encounter. <br /><br />This being a variation on the Arthur Schnitzler\\'s play about the same theme, the director transfers the action to the present time New York where all these different characters meet and connect. Each one is connected in one way, or another to the next person, but no one seems to know the previous point of contact. Stylishly, the film has a sophisticated luxurious look. We are taken to see how these people live and the world they live in their own habitat.<br /><br />The only thing one gets out of all these souls in the picture is the different stages of loneliness each one inhabits. A big city is not exactly the best place in which human relations find sincere fulfillment, as one discerns is the case with most of the people we encounter.<br /><br />The acting is good under Mr. Mattei\\'s direction. Steve Buscemi, Rosario Dawson, Carol Kane, Michael Imperioli, Adrian Grenier, and the rest of the talented cast, make these characters come alive.<br /><br />We wish Mr. Mattei good luck and await anxiously for his next work.', 'sentiment': 'positive'}\n",
      "\n",
      "\n"
     ]
    }
   ],
   "source": [
    "from pymongo import MongoClient\n",
    "\n",
    "# MongoDB connection details\n",
    "client = MongoClient('mongo-csgy-6513-fall.db',\n",
    "                     username='jkj9358',\n",
    "                     password=\"jkj9358\",\n",
    "                     authSource=\"jkj9358_db\")\n",
    "db = client.jkj9358_db\n",
    "\n",
    "# Collection names\n",
    "collection_names = ['twitter_data_collection', 'imdb_data_collection']\n",
    "\n",
    "\n",
    "for collection_name in collection_names:\n",
    "    collection = db[collection_name]\n",
    "    documents = collection.find().limit(5)  # Fetch first 5 documents from the collection\n",
    "\n",
    "    print(f\"Documents from {collection_name}:\")\n",
    "    for doc in documents:\n",
    "        print(doc)\n",
    "    print(\"\\n\") \n"
   ]
  },
  {
   "cell_type": "code",
   "execution_count": null,
   "id": "585c05e0-250c-413e-8e3a-1528e312d2dd",
   "metadata": {},
   "outputs": [],
   "source": []
  }
 ],
 "metadata": {
  "kernelspec": {
   "display_name": "Python [conda env:bigdata]",
   "language": "python",
   "name": "conda-env-bigdata-py"
  },
  "language_info": {
   "codemirror_mode": {
    "name": "ipython",
    "version": 3
   },
   "file_extension": ".py",
   "mimetype": "text/x-python",
   "name": "python",
   "nbconvert_exporter": "python",
   "pygments_lexer": "ipython3",
   "version": "3.10.12"
  }
 },
 "nbformat": 4,
 "nbformat_minor": 5
}
