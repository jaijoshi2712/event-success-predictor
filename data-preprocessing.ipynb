{
 "cells": [
  {
   "cell_type": "code",
   "execution_count": 16,
   "id": "94169110-df75-47b7-9fc7-3ad0dd8238e8",
   "metadata": {
    "tags": []
   },
   "outputs": [],
   "source": [
    "import os\n",
    "import pyspark\n",
    "import pyspark.sql.functions as F\n",
    "import pyspark.sql.types as T\n",
    "import pandas as pd"
   ]
  },
  {
   "cell_type": "code",
   "execution_count": 3,
   "id": "665b11c7-3ab7-40bd-991b-d53996f8ca24",
   "metadata": {
    "tags": []
   },
   "outputs": [
    {
     "name": "stderr",
     "output_type": "stream",
     "text": [
      "Setting default log level to \"WARN\".\n",
      "To adjust logging level use sc.setLogLevel(newLevel). For SparkR, use setLogLevel(newLevel).\n",
      "23/11/26 12:51:49 WARN NativeCodeLoader: Unable to load native-hadoop library for your platform... using builtin-java classes where applicable\n",
      "/opt/conda/envs/bigdata/lib/python3.10/site-packages/pyspark/sql/context.py:158: FutureWarning: Deprecated in 3.0.0. Use SparkSession.builder.getOrCreate() instead.\n",
      "  warnings.warn(\n"
     ]
    }
   ],
   "source": [
    "conf = pyspark.SparkConf()\n",
    "conf.set('spark.ui.proxyBase', '/user/' + os.environ['JUPYTERHUB_USER'] + '/proxy/4041')\n",
    "conf.set('spark.driver.memory','8g')\n",
    "conf.set('spark.ui.showConsoleProgress', False)\n",
    "sc = pyspark.SparkContext(conf=conf)\n",
    "spark = pyspark.SQLContext.getOrCreate(sc)"
   ]
  },
  {
   "cell_type": "markdown",
   "id": "176fcb5b-d24d-4943-b866-1a4ead4b1be6",
   "metadata": {},
   "source": [
    "### First Dataset"
   ]
  },
  {
   "cell_type": "code",
   "execution_count": 67,
   "id": "958ede6c-a779-4720-b7f3-bed859b08c9c",
   "metadata": {
    "tags": []
   },
   "outputs": [],
   "source": [
    "twitter_data = spark.read.csv('./data/Twitter_Data.csv', multiLine=True, header=True).select(['clean_text', 'category'])"
   ]
  },
  {
   "cell_type": "code",
   "execution_count": 68,
   "id": "717b21ab-6168-423b-8c56-e76d10fd06c2",
   "metadata": {
    "tags": []
   },
   "outputs": [
    {
     "data": {
      "text/plain": [
       "107760"
      ]
     },
     "execution_count": 68,
     "metadata": {},
     "output_type": "execute_result"
    }
   ],
   "source": [
    "twitter_data.count()"
   ]
  },
  {
   "cell_type": "code",
   "execution_count": 69,
   "id": "6b621964-762e-4b5e-81d9-a5a07337d769",
   "metadata": {
    "tags": []
   },
   "outputs": [
    {
     "name": "stdout",
     "output_type": "stream",
     "text": [
      "root\n",
      " |-- clean_text: string (nullable = true)\n",
      " |-- category: string (nullable = true)\n",
      "\n",
      "+--------------------+--------+\n",
      "|          clean_text|category|\n",
      "+--------------------+--------+\n",
      "|when modi promise...|    -1.0|\n",
      "|what did just say...|     1.0|\n",
      "|asking his suppor...|     1.0|\n",
      "|answer who among ...|     1.0|\n",
      "|with upcoming ele...|     1.0|\n",
      "|gandhi was gay do...|     1.0|\n",
      "|things like demon...|     1.0|\n",
      "|hope tuthukudi pe...|     1.0|\n",
      "|calm waters where...|     1.0|\n",
      "|vote such party a...|    -1.0|\n",
      "+--------------------+--------+\n",
      "only showing top 10 rows\n",
      "\n"
     ]
    }
   ],
   "source": [
    "twitter_data.printSchema()\n",
    "twitter_data.show(10)"
   ]
  },
  {
   "cell_type": "code",
   "execution_count": 70,
   "id": "405ac7ec-1cd9-4b23-94cc-1a66289dd40a",
   "metadata": {
    "tags": []
   },
   "outputs": [],
   "source": [
    "twitter_data = twitter_data.withColumnRenamed('clean_text', 'text')"
   ]
  },
  {
   "cell_type": "markdown",
   "id": "30ec6dbf-24e6-4c3f-b06b-fac13c9a1ba1",
   "metadata": {},
   "source": [
    "Checking for NULL rows"
   ]
  },
  {
   "cell_type": "code",
   "execution_count": 71,
   "id": "4019ab5d-3cb2-4c6b-995b-1aac6411274f",
   "metadata": {},
   "outputs": [],
   "source": [
    "twitter_data = twitter_data.filter(~(F.col('category').isNull() | F.col('text').isNull()))"
   ]
  },
  {
   "cell_type": "markdown",
   "id": "135f87f9-55fa-4c1a-b29a-e6d9346730d8",
   "metadata": {},
   "source": [
    "This DataFrame has 2 categories:\n",
    "\n",
    "-1 $\\Rightarrow$ Negative sentiment <br>\n",
    "1 $\\Rightarrow$ Positive sentiment"
   ]
  },
  {
   "cell_type": "code",
   "execution_count": 72,
   "id": "88799538-8b77-4f0c-8794-75a856e66acb",
   "metadata": {
    "tags": []
   },
   "outputs": [
    {
     "name": "stdout",
     "output_type": "stream",
     "text": [
      "+--------+\n",
      "|category|\n",
      "+--------+\n",
      "|     1.0|\n",
      "|    -1.0|\n",
      "+--------+\n",
      "\n"
     ]
    }
   ],
   "source": [
    "twitter_data.select('category').distinct().show()"
   ]
  },
  {
   "cell_type": "markdown",
   "id": "209a6655-cdda-41b5-b0e7-be73e7b5b3b3",
   "metadata": {},
   "source": [
    "### Second Dataset"
   ]
  },
  {
   "cell_type": "code",
   "execution_count": 56,
   "id": "c5952828-aff6-4558-a595-b54fede2fa4c",
   "metadata": {},
   "outputs": [],
   "source": [
    "sentiment140Schema = T.StructType([\n",
    "    T.StructField(\"target\", T.StringType(), True),        \n",
    "    T.StructField(\"id\", T.StringType(), True),\n",
    "    T.StructField(\"date\", T.StringType(), True),\n",
    "    T.StructField(\"flag\", T.StringType(), True),\n",
    "    T.StructField(\"user\", T.StringType(), True),\n",
    "    T.StructField(\"text\", T.StringType(), True),\n",
    "])\n",
    "sentiment140_data = spark.read.csv('./data/sentiment140.csv', schema=sentiment140Schema).select(['text', 'target'])"
   ]
  },
  {
   "cell_type": "code",
   "execution_count": 57,
   "id": "4fa2e30b-cb9b-4ce0-b259-b020452838bf",
   "metadata": {
    "tags": []
   },
   "outputs": [
    {
     "name": "stdout",
     "output_type": "stream",
     "text": [
      "root\n",
      " |-- text: string (nullable = true)\n",
      " |-- target: string (nullable = true)\n",
      "\n"
     ]
    },
    {
     "data": {
      "text/plain": [
       "['text', 'target']"
      ]
     },
     "execution_count": 57,
     "metadata": {},
     "output_type": "execute_result"
    }
   ],
   "source": [
    "sentiment140_data.printSchema()\n",
    "sentiment140_data.columns"
   ]
  },
  {
   "cell_type": "markdown",
   "id": "c4932832-537c-4c8a-8347-a3e00af868c6",
   "metadata": {},
   "source": [
    "This DataFrame has 2 categories:\n",
    "\n",
    "0 $\\Rightarrow$ Negative sentiment <br>\n",
    "4 $\\Rightarrow$ Positive sentiment"
   ]
  },
  {
   "cell_type": "code",
   "execution_count": 58,
   "id": "a995eed8-60cc-4bc0-8305-f59f5e94f0e1",
   "metadata": {
    "tags": []
   },
   "outputs": [
    {
     "name": "stdout",
     "output_type": "stream",
     "text": [
      "+------+\n",
      "|target|\n",
      "+------+\n",
      "|     0|\n",
      "|     4|\n",
      "+------+\n",
      "\n"
     ]
    }
   ],
   "source": [
    "sentiment140_data.select('target').distinct().show()"
   ]
  }
 ],
 "metadata": {
  "kernelspec": {
   "display_name": "Python [conda env:bigdata]",
   "language": "python",
   "name": "conda-env-bigdata-py"
  },
  "language_info": {
   "codemirror_mode": {
    "name": "ipython",
    "version": 3
   },
   "file_extension": ".py",
   "mimetype": "text/x-python",
   "name": "python",
   "nbconvert_exporter": "python",
   "pygments_lexer": "ipython3",
   "version": "3.10.12"
  }
 },
 "nbformat": 4,
 "nbformat_minor": 5
}
